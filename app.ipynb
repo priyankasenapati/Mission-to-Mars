{
 "cells": [
  {
   "cell_type": "code",
   "execution_count": null,
   "metadata": {},
   "outputs": [],
   "source": [
    "from flask import Flask, render_template\n",
    "from flask_pymongo import PyMongo\n",
    "import os\n",
    "import scraping\n",
    "\n",
    "app = Flask(__name__)\n",
    "# Use flask_pymongo to set up mongo connection\n",
    "app.config[\"MONGO_URI\"] = \"mongodb://localhost:27017/mars_app\"\n",
    "mongo = PyMongo(app)\n",
    "\n",
    "@app.route(\"/\")\n",
    "def index():\n",
    "    mars = mongo.db.mars.find_one()\n",
    "    return render_template(\"templates/index.html\", mars=mars)\n",
    "\n",
    "@app.route(\"/scrape\")\n",
    "def scrape():\n",
    "    mars = mongo.db.mars\n",
    "    mars_data = scraping.scrape_all()\n",
    "    mars.update({}, mars_data, upsert=True)\n",
    "    return \"Scraping Successful!\"\n",
    "\n",
    "if __name__ == \"__main__\":\n",
    "    app.run(host=os.getenv('IP', '0.0.0.0'),\n",
    "            port=int(os.getenv('PORT', 4444)))     "
   ]
  },
  {
   "cell_type": "code",
   "execution_count": null,
   "metadata": {},
   "outputs": [],
   "source": []
  }
 ],
 "metadata": {
  "kernelspec": {
   "display_name": "PythonData",
   "language": "python",
   "name": "pythondata"
  }
 },
 "nbformat": 4,
 "nbformat_minor": 2
}
