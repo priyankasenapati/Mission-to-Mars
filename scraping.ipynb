{
 "cells": [
  {
   "cell_type": "code",
   "execution_count": 20,
   "metadata": {},
   "outputs": [],
   "source": [
    "# Import Splinter and BeautifulSoup\n",
    "from splinter import Browser\n",
    "from bs4 import BeautifulSoup"
   ]
  },
  {
   "cell_type": "code",
   "execution_count": 21,
   "metadata": {},
   "outputs": [],
   "source": [
    "import pandas as pd "
   ]
  },
  {
   "cell_type": "code",
   "execution_count": 22,
   "metadata": {},
   "outputs": [],
   "source": [
    "# Set the executable path and initialize the chrome browser in splinter\n",
    "executable_path = {'executable_path': '/usr/local/bin/chromedriver'}\n",
    "browser = Browser('chrome', **executable_path)"
   ]
  },
  {
   "cell_type": "code",
   "execution_count": 65,
   "metadata": {},
   "outputs": [],
   "source": [
    "def mars_article(browser):\n",
    "\n",
    "    # Visit the mars nasa news site\n",
    "    url = 'https://mars.nasa.gov/news/'\n",
    "    browser.visit(url)\n",
    "    # Optional delay for loading the page\n",
    "    browser.is_element_present_by_css(\"ul.item_list li.slide\", wait_time=1)\n",
    "\n",
    "    # Convert the browser html to a soup object and then quit the browser\n",
    "    html = browser.html\n",
    "    news_soup = soup(html, 'html.parser')\n",
    "    # Add try/except for error handling\n",
    "    try:\n",
    "        slide_elem = news_soup.select_one('ul.item_list li.slide')\n",
    "        # Use the parent element to find the first <a> tag and save it as `news_title`\n",
    "        news_title = slide_elem.find(\"div\", class_='content_title').get_text()\n",
    "        # Use the parent element to find the paragraph text\n",
    "        news_p = slide_elem.find('div', class_=\"article_teaser_body\").get_text()\n",
    "    except AttributeError:\n",
    "        return None, None\n",
    "    return news_title, news_p"
   ]
  },
  {
   "cell_type": "code",
   "execution_count": 66,
   "metadata": {},
   "outputs": [],
   "source": [
    "def featured_image(browser):\n",
    "       # Visit URL\n",
    "    url = 'https://www.jpl.nasa.gov/spaceimages/?search=&category=Mars'\n",
    "    browser.visit(url)\n",
    "\n",
    "    # Find and click the full image button\n",
    "    full_image_elem = browser.find_by_id('full_image')\n",
    "    full_image_elem.click()\n",
    "\n",
    "    # Find the more info button and click that\n",
    "    browser.is_element_present_by_text('more info', wait_time=1)\n",
    "    more_info_elem = browser.find_link_by_partial_text('more info')\n",
    "    more_info_elem.click()\n",
    "\n",
    "    # Parse the resulting html with soup\n",
    "    html = browser.html\n",
    "    img_soup = BeautifulSoup(html, 'html.parser')\n",
    "    \n",
    "    try:\n",
    "        # find the relative image url\n",
    "        img_url_rel = img_soup.select_one('figure.lede a img').get(\"src\")\n",
    "\n",
    "    except AttributeError:\n",
    "        return None\n",
    "      # Use the base URL to create an absolute URL\n",
    "    img_url = f'https://www.jpl.nasa.gov{img_url_rel}'\n",
    "    return img_url"
   ]
  },
  {
   "cell_type": "code",
   "execution_count": 69,
   "metadata": {},
   "outputs": [],
   "source": [
    "def mars_data():\n",
    "    try:\n",
    "        # use 'read_html\" to scrape the facts table into a dataframe\n",
    "        df = pd.read_html('http://space-facts.com/mars/')[0]\n",
    "    except BaseException:\n",
    "        return None\n",
    "      \n",
    "    df.columns=['description', 'value']\n",
    "    df.set_index('description', inplace=True)\n",
    "    # convert the dataframe into html for display on webpage\n",
    "    return df.to_html()\n"
   ]
  },
  {
   "cell_type": "code",
   "execution_count": 80,
   "metadata": {},
   "outputs": [
    {
     "name": "stderr",
     "output_type": "stream",
     "text": [
      "/Users/priyankasenapati/opt/anaconda3/envs/PythonData/lib/python3.7/site-packages/splinter/driver/webdriver/__init__.py:528: FutureWarning: browser.find_link_by_partial_text is deprecated. Use browser.links.find_by_partial_text instead.\n",
      "  FutureWarning,\n"
     ]
    },
    {
     "name": "stdout",
     "output_type": "stream",
     "text": [
      "{'news_title': None, 'news_paragraph': None, 'featured_image': 'https://www.jpl.nasa.gov/spaceimages/images/largesize/PIA18840_hires.jpg', 'facts': '<table border=\"1\" class=\"dataframe\">\\n  <thead>\\n    <tr style=\"text-align: right;\">\\n      <th></th>\\n      <th>value</th>\\n    </tr>\\n    <tr>\\n      <th>description</th>\\n      <th></th>\\n    </tr>\\n  </thead>\\n  <tbody>\\n    <tr>\\n      <th>Equatorial Diameter:</th>\\n      <td>6,792 km</td>\\n    </tr>\\n    <tr>\\n      <th>Polar Diameter:</th>\\n      <td>6,752 km</td>\\n    </tr>\\n    <tr>\\n      <th>Mass:</th>\\n      <td>6.39 × 10^23 kg (0.11 Earths)</td>\\n    </tr>\\n    <tr>\\n      <th>Moons:</th>\\n      <td>2 (Phobos &amp; Deimos)</td>\\n    </tr>\\n    <tr>\\n      <th>Orbit Distance:</th>\\n      <td>227,943,824 km (1.38 AU)</td>\\n    </tr>\\n    <tr>\\n      <th>Orbit Period:</th>\\n      <td>687 days (1.9 years)</td>\\n    </tr>\\n    <tr>\\n      <th>Surface Temperature:</th>\\n      <td>-87 to -5 °C</td>\\n    </tr>\\n    <tr>\\n      <th>First Record:</th>\\n      <td>2nd millennium BC</td>\\n    </tr>\\n    <tr>\\n      <th>Recorded By:</th>\\n      <td>Egyptian astronomers</td>\\n    </tr>\\n  </tbody>\\n</table>', 'last_modified': datetime.datetime(2020, 3, 14, 20, 20, 29, 606774), 'news_title0': 'Cerberus Hemisphere Enhanced', 'news_title1': 'Schiaparelli Hemisphere Enhanced', 'news_title2': 'Syrtis Major Hemisphere Enhanced', 'news_title3': 'Valles Marineris Hemisphere Enhanced', 'img_url0': 'http://astropedia.astrogeology.usgs.gov/download/Mars/Viking/cerberus_enhanced.tif/full.jpg', 'img_url1': 'http://astropedia.astrogeology.usgs.gov/download/Mars/Viking/schiaparelli_enhanced.tif/full.jpg', 'img_url2': 'http://astropedia.astrogeology.usgs.gov/download/Mars/Viking/syrtis_major_enhanced.tif/full.jpg', 'img_url3': 'http://astropedia.astrogeology.usgs.gov/download/Mars/Viking/valles_marineris_enhanced.tif/full.jpg'}\n"
     ]
    }
   ],
   "source": [
    "def scrape_all():\n",
    "    import datetime as dt\n",
    "\n",
    "    # Path to chromedriver\n",
    "    exec_path=\"/Users/priyankasenapati/Desktop/Classwork/Mission-to-Mars\"\n",
    "    executable_path = {'executable_path': exec_path}\n",
    "    # Initiate headless driver for deployment\n",
    "    browser = Browser(\"chrome\", executable_path=\"chromedriver\", headless=True)\n",
    "    #print(browser)\n",
    "    news_title, news_paragraph = mars_article(browser)\n",
    "\n",
    "    # Run all scraping functions and store results in dictionary\n",
    "    data = {\n",
    "        \"news_title\": news_title,\n",
    "        \"news_paragraph\": news_paragraph,\n",
    "        \"featured_image\": featured_image(browser),\n",
    "        \"facts\": mars_data(),\n",
    "        \"last_modified\": dt.datetime.now()\n",
    "        \n",
    "    }\n",
    "\n",
    "    url = 'https://astrogeology.usgs.gov/search/results?q=hemisphere+enhanced&k1=target&v1=Mars'\n",
    "    browser.visit(url)\n",
    "    \n",
    "    # extract html and parse using Beautiful Soup\n",
    "    html = browser.html\n",
    "    soup = BeautifulSoup(html, 'html.parser')\n",
    "   \n",
    "    divs = soup.findAll(class_= 'description')\n",
    "    \n",
    "    thumbs=[]\n",
    "    i=0    \n",
    "    for div in divs:\n",
    "        img_title=div.find('h3').text\n",
    "        title=f\"news_title{i}\"\n",
    "        data[title]=img_title\n",
    "        imghref=div.find('a',href=True)\n",
    "        thumbs.append(f\"https://astrogeology.usgs.gov{imghref['href']}\")\n",
    "        i=i+1\n",
    "        #print(i)\n",
    "        #print(thumbs)\n",
    "    x=0\n",
    "    for link in thumbs:\n",
    "        #print(link)\n",
    "        browser.visit(link)\n",
    "        # extract html and parse using Beautiful Soup\n",
    "        html2 = browser.html\n",
    "        soup2 = BeautifulSoup(html2, 'html.parser')\n",
    "        imgurl=f\"img_url{x}\"\n",
    "        \n",
    "        for imglink in soup2.findAll('a', href=True, text='Sample'):\n",
    "            data[imgurl]=imglink['href']\n",
    "        \n",
    "        x=x+1\n",
    "        #print(x)\n",
    "        #for image in data:\n",
    "        #    print(image)\n",
    "    return data   \n",
    "if __name__ == \"__main__\":\n",
    "    # If running as script, print scraped data\n",
    "    print(scrape_all())"
   ]
  },
  {
   "cell_type": "code",
   "execution_count": null,
   "metadata": {},
   "outputs": [],
   "source": []
  }
 ],
 "metadata": {
  "kernelspec": {
   "display_name": "PythonData",
   "language": "python",
   "name": "pythondata"
  },
  "language_info": {
   "codemirror_mode": {
    "name": "ipython",
    "version": 3
   },
   "file_extension": ".py",
   "mimetype": "text/x-python",
   "name": "python",
   "nbconvert_exporter": "python",
   "pygments_lexer": "ipython3",
   "version": "3.7.6"
  }
 },
 "nbformat": 4,
 "nbformat_minor": 2
}
